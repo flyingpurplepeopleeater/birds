{
 "cells": [
  {
   "cell_type": "markdown",
   "id": "505f14c7-e0aa-471e-bcff-f25c9e0a1ecd",
   "metadata": {},
   "source": [
    "<h1>Bird Network</h1>"
   ]
  },
  {
   "cell_type": "markdown",
   "id": "4f1a469b-95e1-410c-9e5c-a2cae094be2f",
   "metadata": {},
   "source": [
    "Let's start with one year of data; our 2019 data; we're going to have all of the weather data and bird data\n",
    "Our input (for the one-year run) will be just weather and number of birds\n",
    "Except that we also want the weather data for the day of\n",
    "Let's first figure out how to do it and then figure out how to get the data in the form that will let us do it"
   ]
  },
  {
   "cell_type": "code",
   "execution_count": 1,
   "id": "f5ab863b-8fd3-4131-bda4-ed73232ccdb9",
   "metadata": {},
   "outputs": [],
   "source": [
    "# code time\n",
    "# Let's try to get our data into this form now\n",
    "# We want a bunch of rows, each of which is like a bunch of arrays...\n",
    "\n",
    "# current issue: how to get array inputs instead of number inputs for each time step"
   ]
  },
  {
   "cell_type": "code",
   "execution_count": 2,
   "id": "9aacaaef-38af-439c-a5f7-9754afaaf87a",
   "metadata": {},
   "outputs": [],
   "source": [
    "## For data handling\n",
    "import pandas as pd\n",
    "import numpy as np\n",
    "\n",
    "## For plotting\n",
    "import matplotlib.pyplot as plt\n",
    "from seaborn import set_style\n",
    "\n",
    "## This sets the plot style\n",
    "## to have a grid on a white background\n",
    "set_style(\"whitegrid\")\n",
    "\n",
    "## Import all the keras stuff we'll need\n",
    "from keras import models\n",
    "from keras import layers\n",
    "from keras import optimizers\n",
    "from keras import losses\n",
    "from keras import metrics"
   ]
  },
  {
   "cell_type": "code",
   "execution_count": 3,
   "id": "88100a97-c081-4e70-bdcb-2c67c699bcba",
   "metadata": {},
   "outputs": [
    {
     "name": "stderr",
     "output_type": "stream",
     "text": [
      "/opt/homebrew/Caskroom/miniforge/base/envs/myname/lib/python3.11/site-packages/keras/src/layers/rnn/rnn.py:204: UserWarning: Do not pass an `input_shape`/`input_dim` argument to a layer. When using Sequential models, prefer using an `Input(shape)` object as the first layer in the model instead.\n",
      "  super().__init__(**kwargs)\n"
     ]
    },
    {
     "data": {
      "text/html": [
       "<pre style=\"white-space:pre;overflow-x:auto;line-height:normal;font-family:Menlo,'DejaVu Sans Mono',consolas,'Courier New',monospace\"><span style=\"font-weight: bold\">Model: \"sequential\"</span>\n",
       "</pre>\n"
      ],
      "text/plain": [
       "\u001b[1mModel: \"sequential\"\u001b[0m\n"
      ]
     },
     "metadata": {},
     "output_type": "display_data"
    },
    {
     "data": {
      "text/html": [
       "<pre style=\"white-space:pre;overflow-x:auto;line-height:normal;font-family:Menlo,'DejaVu Sans Mono',consolas,'Courier New',monospace\">┏━━━━━━━━━━━━━━━━━━━━━━━━━━━━━━━━━┳━━━━━━━━━━━━━━━━━━━━━━━━┳━━━━━━━━━━━━━━━┓\n",
       "┃<span style=\"font-weight: bold\"> Layer (type)                    </span>┃<span style=\"font-weight: bold\"> Output Shape           </span>┃<span style=\"font-weight: bold\">       Param # </span>┃\n",
       "┡━━━━━━━━━━━━━━━━━━━━━━━━━━━━━━━━━╇━━━━━━━━━━━━━━━━━━━━━━━━╇━━━━━━━━━━━━━━━┩\n",
       "│ simple_rnn (<span style=\"color: #0087ff; text-decoration-color: #0087ff\">SimpleRNN</span>)          │ (<span style=\"color: #00d7ff; text-decoration-color: #00d7ff\">None</span>, <span style=\"color: #00af00; text-decoration-color: #00af00\">30</span>)             │         <span style=\"color: #00af00; text-decoration-color: #00af00\">1,110</span> │\n",
       "├─────────────────────────────────┼────────────────────────┼───────────────┤\n",
       "│ dense (<span style=\"color: #0087ff; text-decoration-color: #0087ff\">Dense</span>)                   │ (<span style=\"color: #00d7ff; text-decoration-color: #00d7ff\">None</span>, <span style=\"color: #00af00; text-decoration-color: #00af00\">50</span>)             │         <span style=\"color: #00af00; text-decoration-color: #00af00\">1,550</span> │\n",
       "├─────────────────────────────────┼────────────────────────┼───────────────┤\n",
       "│ dense_1 (<span style=\"color: #0087ff; text-decoration-color: #0087ff\">Dense</span>)                 │ (<span style=\"color: #00d7ff; text-decoration-color: #00d7ff\">None</span>, <span style=\"color: #00af00; text-decoration-color: #00af00\">1</span>)              │            <span style=\"color: #00af00; text-decoration-color: #00af00\">51</span> │\n",
       "└─────────────────────────────────┴────────────────────────┴───────────────┘\n",
       "</pre>\n"
      ],
      "text/plain": [
       "┏━━━━━━━━━━━━━━━━━━━━━━━━━━━━━━━━━┳━━━━━━━━━━━━━━━━━━━━━━━━┳━━━━━━━━━━━━━━━┓\n",
       "┃\u001b[1m \u001b[0m\u001b[1mLayer (type)                   \u001b[0m\u001b[1m \u001b[0m┃\u001b[1m \u001b[0m\u001b[1mOutput Shape          \u001b[0m\u001b[1m \u001b[0m┃\u001b[1m \u001b[0m\u001b[1m      Param #\u001b[0m\u001b[1m \u001b[0m┃\n",
       "┡━━━━━━━━━━━━━━━━━━━━━━━━━━━━━━━━━╇━━━━━━━━━━━━━━━━━━━━━━━━╇━━━━━━━━━━━━━━━┩\n",
       "│ simple_rnn (\u001b[38;5;33mSimpleRNN\u001b[0m)          │ (\u001b[38;5;45mNone\u001b[0m, \u001b[38;5;34m30\u001b[0m)             │         \u001b[38;5;34m1,110\u001b[0m │\n",
       "├─────────────────────────────────┼────────────────────────┼───────────────┤\n",
       "│ dense (\u001b[38;5;33mDense\u001b[0m)                   │ (\u001b[38;5;45mNone\u001b[0m, \u001b[38;5;34m50\u001b[0m)             │         \u001b[38;5;34m1,550\u001b[0m │\n",
       "├─────────────────────────────────┼────────────────────────┼───────────────┤\n",
       "│ dense_1 (\u001b[38;5;33mDense\u001b[0m)                 │ (\u001b[38;5;45mNone\u001b[0m, \u001b[38;5;34m1\u001b[0m)              │            \u001b[38;5;34m51\u001b[0m │\n",
       "└─────────────────────────────────┴────────────────────────┴───────────────┘\n"
      ]
     },
     "metadata": {},
     "output_type": "display_data"
    },
    {
     "data": {
      "text/html": [
       "<pre style=\"white-space:pre;overflow-x:auto;line-height:normal;font-family:Menlo,'DejaVu Sans Mono',consolas,'Courier New',monospace\"><span style=\"font-weight: bold\"> Total params: </span><span style=\"color: #00af00; text-decoration-color: #00af00\">2,711</span> (10.59 KB)\n",
       "</pre>\n"
      ],
      "text/plain": [
       "\u001b[1m Total params: \u001b[0m\u001b[38;5;34m2,711\u001b[0m (10.59 KB)\n"
      ]
     },
     "metadata": {},
     "output_type": "display_data"
    },
    {
     "data": {
      "text/html": [
       "<pre style=\"white-space:pre;overflow-x:auto;line-height:normal;font-family:Menlo,'DejaVu Sans Mono',consolas,'Courier New',monospace\"><span style=\"font-weight: bold\"> Trainable params: </span><span style=\"color: #00af00; text-decoration-color: #00af00\">2,711</span> (10.59 KB)\n",
       "</pre>\n"
      ],
      "text/plain": [
       "\u001b[1m Trainable params: \u001b[0m\u001b[38;5;34m2,711\u001b[0m (10.59 KB)\n"
      ]
     },
     "metadata": {},
     "output_type": "display_data"
    },
    {
     "data": {
      "text/html": [
       "<pre style=\"white-space:pre;overflow-x:auto;line-height:normal;font-family:Menlo,'DejaVu Sans Mono',consolas,'Courier New',monospace\"><span style=\"font-weight: bold\"> Non-trainable params: </span><span style=\"color: #00af00; text-decoration-color: #00af00\">0</span> (0.00 B)\n",
       "</pre>\n"
      ],
      "text/plain": [
       "\u001b[1m Non-trainable params: \u001b[0m\u001b[38;5;34m0\u001b[0m (0.00 B)\n"
      ]
     },
     "metadata": {},
     "output_type": "display_data"
    }
   ],
   "source": [
    "model = models.Sequential()\n",
    "\n",
    "# Then the SimpleRNN layer\n",
    "# the first input should be the same size as the input layer, i.e. 32\n",
    "# return_sequences determines if the network should return the hidden state value for \n",
    "# each hidden layer h1, h2, ..., hT\n",
    "# Since we only want the last one, hT, we set it equal to False\n",
    "# If we were building a network with multiple SimpleRNN layers,\n",
    "# you'd set this to True\n",
    "model.add(layers.SimpleRNN(30, input_shape=(30,6), return_sequences=False))\n",
    "model.add(layers.Dense(50, activation='relu'))\n",
    "model.add(layers.Dense(1, activation='relu'))\n",
    "model.summary()\n",
    "model.compile(optimizer='rmsprop',\n",
    "              loss=\"mse\",\n",
    "                 metrics=['mse'])"
   ]
  },
  {
   "cell_type": "code",
   "execution_count": 4,
   "id": "89dff317-aa57-473c-8be8-85f88643e549",
   "metadata": {},
   "outputs": [
    {
     "name": "stdout",
     "output_type": "stream",
     "text": [
      "[[[1.66666667e+00 7.70740741e+01 0.00000000e+00 8.87500000e+01\n",
      "   0.00000000e+00 0.00000000e+00]\n",
      "  [1.50000000e+00 1.89310345e+01 0.00000000e+00 1.39111111e+02\n",
      "   1.00000000e+00 0.00000000e+00]\n",
      "  [5.00000000e+00 9.31290323e+01 0.00000000e+00 1.71444444e+02\n",
      "   2.00000000e+00 0.00000000e+00]\n",
      "  ...\n",
      "  [2.00000000e+00 0.00000000e+00 0.00000000e+00 1.62000000e+02\n",
      "   4.10000000e+01 0.00000000e+00]\n",
      "  [2.00000000e+00 2.21428571e+00 0.00000000e+00 1.96250000e+02\n",
      "   4.20000000e+01 0.00000000e+00]\n",
      "  [1.00000000e+00 2.85714286e-01 0.00000000e+00 1.88300000e+02\n",
      "   4.30000000e+01 0.00000000e+00]]\n",
      "\n",
      " [[1.00000000e+00 2.97242424e+02 0.00000000e+00 1.57300000e+02\n",
      "   1.90000000e+01 0.00000000e+00]\n",
      "  [4.00000000e+00 3.82142857e+00 0.00000000e+00 1.81750000e+02\n",
      "   2.00000000e+01 0.00000000e+00]\n",
      "  [1.00000000e+00 1.52000000e+02 0.00000000e+00 1.68100000e+02\n",
      "   2.20000000e+01 0.00000000e+00]\n",
      "  ...\n",
      "  [6.00000000e+00 2.55172414e+00 0.00000000e+00 9.82222222e+01\n",
      "   7.10000000e+01 0.00000000e+00]\n",
      "  [5.00000000e+00 4.19375000e+01 0.00000000e+00 8.16666667e+01\n",
      "   7.20000000e+01 0.00000000e+00]\n",
      "  [1.06666667e+01 6.77419355e-01 0.00000000e+00 1.95555556e+01\n",
      "   7.30000000e+01 0.00000000e+00]]\n",
      "\n",
      " [[2.00000000e+00 1.03448276e-01 0.00000000e+00 1.08400000e+02\n",
      "   4.40000000e+01 0.00000000e+00]\n",
      "  [2.00000000e+00 0.00000000e+00 0.00000000e+00 9.32000000e+01\n",
      "   4.60000000e+01 0.00000000e+00]\n",
      "  [1.05000000e+01 0.00000000e+00 0.00000000e+00 1.33400000e+02\n",
      "   4.70000000e+01 0.00000000e+00]\n",
      "  ...\n",
      "  [5.57142857e+00 6.62666667e+01 0.00000000e+00 2.45600000e+02\n",
      "   8.90000000e+01 0.00000000e+00]\n",
      "  [1.05000000e+01 1.58620690e+00 0.00000000e+00 1.39000000e+02\n",
      "   9.00000000e+01 0.00000000e+00]\n",
      "  [7.00000000e+00 5.69333333e+01 0.00000000e+00 2.52111111e+02\n",
      "   9.20000000e+01 0.00000000e+00]]\n",
      "\n",
      " ...\n",
      "\n",
      " [[3.40000000e+00 1.58437500e+01 0.00000000e+00 2.07500000e+02\n",
      "   2.79000000e+02 0.00000000e+00]\n",
      "  [2.66666667e+00 0.00000000e+00 0.00000000e+00 1.73500000e+02\n",
      "   2.80000000e+02 0.00000000e+00]\n",
      "  [4.50000000e+00 1.61111111e+00 0.00000000e+00 1.97000000e+02\n",
      "   2.82000000e+02 0.00000000e+00]\n",
      "  ...\n",
      "  [2.00000000e+00 0.00000000e+00 0.00000000e+00 1.95857143e+02\n",
      "   3.16000000e+02 0.00000000e+00]\n",
      "  [2.00000000e+00 0.00000000e+00 0.00000000e+00 1.90000000e+02\n",
      "   3.17000000e+02 0.00000000e+00]\n",
      "  [5.00000000e+00 0.00000000e+00 0.00000000e+00 2.00142857e+02\n",
      "   3.18000000e+02 0.00000000e+00]]\n",
      "\n",
      " [[1.00000000e+00 0.00000000e+00 0.00000000e+00 9.58750000e+01\n",
      "   3.04000000e+02 0.00000000e+00]\n",
      "  [2.00000000e+00 0.00000000e+00 0.00000000e+00 9.98571429e+01\n",
      "   3.05000000e+02 0.00000000e+00]\n",
      "  [2.00000000e+00 0.00000000e+00 0.00000000e+00 1.52500000e+02\n",
      "   3.06000000e+02 0.00000000e+00]\n",
      "  ...\n",
      "  [1.66666667e+00 0.00000000e+00 0.00000000e+00 6.07500000e+01\n",
      "   3.31000000e+02 0.00000000e+00]\n",
      "  [2.66666667e+00 0.00000000e+00 0.00000000e+00 5.78750000e+01\n",
      "   3.32000000e+02 0.00000000e+00]\n",
      "  [1.45000000e+01 0.00000000e+00 0.00000000e+00 1.28875000e+02\n",
      "   3.33000000e+02 0.00000000e+00]]\n",
      "\n",
      " [[3.00000000e+00 8.57142857e-02 0.00000000e+00 2.16571429e+02\n",
      "   3.19000000e+02 0.00000000e+00]\n",
      "  [3.50000000e+00 4.84848485e-01 0.00000000e+00 2.25000000e+02\n",
      "   3.20000000e+02 0.00000000e+00]\n",
      "  [1.00000000e+00 2.34166667e+01 0.00000000e+00 1.73833333e+02\n",
      "   3.21000000e+02 0.00000000e+00]\n",
      "  ...\n",
      "  [8.50000000e+00 0.00000000e+00 0.00000000e+00 1.55142857e+02\n",
      "   3.48000000e+02 0.00000000e+00]\n",
      "  [1.55000000e+01 1.12971429e+02 0.00000000e+00 1.35428571e+02\n",
      "   3.50000000e+02 0.00000000e+00]\n",
      "  [6.00000000e+00 7.16666667e+00 0.00000000e+00 1.12000000e+02\n",
      "   3.51000000e+02 0.00000000e+00]]]\n",
      "[ 2.          2.         10.5         3.2         2.          1.\n",
      "  1.          1.6         2.          5.          2.          1.\n",
      "  5.          4.16666667  3.          2.          1.          3.\n",
      "  2.          2.66666667  4.         12.          6.          4.5\n",
      " 11.          1.          6.          1.66666667  1.          2.\n",
      " 18.          2.          1.          1.          3.          1.\n",
      "  9.5         4.          5.5         2.          1.5         1.5\n",
      "  1.5         2.          3.          2.          1.          2.\n",
      "  1.          5.          5.5         2.          3.5         3.33333333\n",
      "  2.         14.          3.          6.          1.          1.5\n",
      "  3.          2.          1.          1.          3.          5.\n",
      "  3.          9.28571429  1.          6.          4.66666667  2.5\n",
      "  8.          3.33333333  1.          2.          2.          3.\n",
      "  3.          2.2         3.          3.5         1.          1.\n",
      "  2.          2.         15.2        18.66666667 12.5         6.5\n",
      "  2.          6.         10.66666667  4.27272727  5.875       1.5\n",
      "  3.          2.4         1.57142857  4.          2.          2.66666667\n",
      "  3.5         1.75        3.4         1.          3.          6.\n",
      " 12.4       ]\n"
     ]
    }
   ],
   "source": [
    "# Now let's get our data in here\n",
    "import datetime\n",
    "\n",
    "def diff(row):\n",
    "    return (datetime.date(int(row[\"YEAR\"]),int(row[\"MONTH\"]),int(row[\"DAY\"])) - datetime.date(2017,1,1)).days\n",
    "\n",
    "def diffmod(row):\n",
    "    return (datetime.date(int(row[\"YEAR\"]),int(row[\"MONTH\"]),int(row[\"DAY\"])) - datetime.date(int(row[\"YEAR\"]),1,1)).days\n",
    "\n",
    "df = pd.read_csv(\"Data/AllSpecYear.csv\")\n",
    "df = df[df[\"LATITUDE\"]==36]\n",
    "df = df[df[\"LONGITUDE\"]==-86]\n",
    "df[\"T\"] = df.apply(diff,axis=1)\n",
    "df[\"DOY\"] = df.apply(diffmod,axis=1)\n",
    "df = df.sort_values(\"T\")[[\"OBSERVATION COUNT\",\"PRCP\",\"SNOW\",\"TMAX\",\"DOY\",\"SPECIES\",\"T\"]]\n",
    "df = df[[\"OBSERVATION COUNT\",\"PRCP\",\"SNOW\",\"TMAX\",\"DOY\",\"SPECIES\",\"T\"]]\n",
    "df=df[df[\"SPECIES\"]==0]\n",
    "array = df.drop(\"T\",axis=1).to_numpy()\n",
    "Xarray = np.empty((int((len(array)-30)/15+1),30,6))\n",
    "Yarray = np.array([])\n",
    "for i in range(len(array)-30):\n",
    "    if i%15==0:\n",
    "        for j in range(30):\n",
    "            Xarray[int(i/15)][j] = array[i+j]\n",
    "        Yarray = np.append(Yarray,[array[i+30][0]])\n",
    "print(Xarray)\n",
    "print(Yarray)\n",
    "# 30 day guys..."
   ]
  },
  {
   "cell_type": "code",
   "execution_count": 5,
   "id": "400c2c7a-2bd5-4054-9a4d-7ebe4d5a12d1",
   "metadata": {},
   "outputs": [
    {
     "name": "stdout",
     "output_type": "stream",
     "text": [
      "87\n"
     ]
    }
   ],
   "source": [
    "from sklearn.model_selection import train_test_split\n",
    "X_train, X_test, y_train, y_test = train_test_split(Xarray, Yarray,\n",
    "                                                       shuffle = True,\n",
    "                                                       random_state = 440,\n",
    "                                                       test_size = .2)\n",
    "print(len(y_train))\n",
    "X_train_train,X_val,y_train_train,y_val = train_test_split(X_train, y_train,\n",
    "                                                           test_size=.2,\n",
    "                                                           shuffle=True,\n",
    "                                                           random_state=440)"
   ]
  },
  {
   "cell_type": "code",
   "execution_count": 6,
   "id": "69241aa3-e89e-43fe-b2ba-1616f8517ef6",
   "metadata": {},
   "outputs": [
    {
     "name": "stdout",
     "output_type": "stream",
     "text": [
      "Epoch 1/20\n",
      "\u001b[1m1/1\u001b[0m \u001b[32m━━━━━━━━━━━━━━━━━━━━\u001b[0m\u001b[37m\u001b[0m \u001b[1m0s\u001b[0m 385ms/step - loss: 21.6749 - mse: 21.6749 - val_loss: 23.4934 - val_mse: 23.4934\n",
      "Epoch 2/20\n",
      "\u001b[1m1/1\u001b[0m \u001b[32m━━━━━━━━━━━━━━━━━━━━\u001b[0m\u001b[37m\u001b[0m \u001b[1m0s\u001b[0m 15ms/step - loss: 19.2679 - mse: 19.2679 - val_loss: 22.2759 - val_mse: 22.2759\n",
      "Epoch 3/20\n",
      "\u001b[1m1/1\u001b[0m \u001b[32m━━━━━━━━━━━━━━━━━━━━\u001b[0m\u001b[37m\u001b[0m \u001b[1m0s\u001b[0m 15ms/step - loss: 17.8169 - mse: 17.8169 - val_loss: 21.4974 - val_mse: 21.4974\n",
      "Epoch 4/20\n",
      "\u001b[1m1/1\u001b[0m \u001b[32m━━━━━━━━━━━━━━━━━━━━\u001b[0m\u001b[37m\u001b[0m \u001b[1m0s\u001b[0m 15ms/step - loss: 16.8067 - mse: 16.8067 - val_loss: 20.9193 - val_mse: 20.9193\n",
      "Epoch 5/20\n",
      "\u001b[1m1/1\u001b[0m \u001b[32m━━━━━━━━━━━━━━━━━━━━\u001b[0m\u001b[37m\u001b[0m \u001b[1m0s\u001b[0m 15ms/step - loss: 16.0347 - mse: 16.0347 - val_loss: 20.4795 - val_mse: 20.4795\n",
      "Epoch 6/20\n",
      "\u001b[1m1/1\u001b[0m \u001b[32m━━━━━━━━━━━━━━━━━━━━\u001b[0m\u001b[37m\u001b[0m \u001b[1m0s\u001b[0m 14ms/step - loss: 15.4153 - mse: 15.4153 - val_loss: 20.1553 - val_mse: 20.1553\n",
      "Epoch 7/20\n",
      "\u001b[1m1/1\u001b[0m \u001b[32m━━━━━━━━━━━━━━━━━━━━\u001b[0m\u001b[37m\u001b[0m \u001b[1m0s\u001b[0m 14ms/step - loss: 14.9089 - mse: 14.9089 - val_loss: 19.8966 - val_mse: 19.8966\n",
      "Epoch 8/20\n",
      "\u001b[1m1/1\u001b[0m \u001b[32m━━━━━━━━━━━━━━━━━━━━\u001b[0m\u001b[37m\u001b[0m \u001b[1m0s\u001b[0m 15ms/step - loss: 14.4711 - mse: 14.4711 - val_loss: 19.6945 - val_mse: 19.6945\n",
      "Epoch 9/20\n",
      "\u001b[1m1/1\u001b[0m \u001b[32m━━━━━━━━━━━━━━━━━━━━\u001b[0m\u001b[37m\u001b[0m \u001b[1m0s\u001b[0m 15ms/step - loss: 14.0799 - mse: 14.0799 - val_loss: 19.5630 - val_mse: 19.5630\n",
      "Epoch 10/20\n",
      "\u001b[1m1/1\u001b[0m \u001b[32m━━━━━━━━━━━━━━━━━━━━\u001b[0m\u001b[37m\u001b[0m \u001b[1m0s\u001b[0m 15ms/step - loss: 13.7487 - mse: 13.7487 - val_loss: 19.4674 - val_mse: 19.4674\n",
      "Epoch 11/20\n",
      "\u001b[1m1/1\u001b[0m \u001b[32m━━━━━━━━━━━━━━━━━━━━\u001b[0m\u001b[37m\u001b[0m \u001b[1m0s\u001b[0m 16ms/step - loss: 13.4714 - mse: 13.4714 - val_loss: 19.3944 - val_mse: 19.3944\n",
      "Epoch 12/20\n",
      "\u001b[1m1/1\u001b[0m \u001b[32m━━━━━━━━━━━━━━━━━━━━\u001b[0m\u001b[37m\u001b[0m \u001b[1m0s\u001b[0m 14ms/step - loss: 13.2290 - mse: 13.2290 - val_loss: 19.3490 - val_mse: 19.3490\n",
      "Epoch 13/20\n",
      "\u001b[1m1/1\u001b[0m \u001b[32m━━━━━━━━━━━━━━━━━━━━\u001b[0m\u001b[37m\u001b[0m \u001b[1m0s\u001b[0m 15ms/step - loss: 13.0023 - mse: 13.0023 - val_loss: 19.3170 - val_mse: 19.3170\n",
      "Epoch 14/20\n",
      "\u001b[1m1/1\u001b[0m \u001b[32m━━━━━━━━━━━━━━━━━━━━\u001b[0m\u001b[37m\u001b[0m \u001b[1m0s\u001b[0m 15ms/step - loss: 12.8005 - mse: 12.8005 - val_loss: 19.3115 - val_mse: 19.3115\n",
      "Epoch 15/20\n",
      "\u001b[1m1/1\u001b[0m \u001b[32m━━━━━━━━━━━━━━━━━━━━\u001b[0m\u001b[37m\u001b[0m \u001b[1m0s\u001b[0m 15ms/step - loss: 12.6175 - mse: 12.6175 - val_loss: 19.3079 - val_mse: 19.3079\n",
      "Epoch 16/20\n",
      "\u001b[1m1/1\u001b[0m \u001b[32m━━━━━━━━━━━━━━━━━━━━\u001b[0m\u001b[37m\u001b[0m \u001b[1m0s\u001b[0m 15ms/step - loss: 12.4483 - mse: 12.4483 - val_loss: 19.3157 - val_mse: 19.3157\n",
      "Epoch 17/20\n",
      "\u001b[1m1/1\u001b[0m \u001b[32m━━━━━━━━━━━━━━━━━━━━\u001b[0m\u001b[37m\u001b[0m \u001b[1m0s\u001b[0m 16ms/step - loss: 12.2617 - mse: 12.2617 - val_loss: 19.3390 - val_mse: 19.3390\n",
      "Epoch 18/20\n",
      "\u001b[1m1/1\u001b[0m \u001b[32m━━━━━━━━━━━━━━━━━━━━\u001b[0m\u001b[37m\u001b[0m \u001b[1m0s\u001b[0m 15ms/step - loss: 12.0015 - mse: 12.0015 - val_loss: 19.3628 - val_mse: 19.3628\n",
      "Epoch 19/20\n",
      "\u001b[1m1/1\u001b[0m \u001b[32m━━━━━━━━━━━━━━━━━━━━\u001b[0m\u001b[37m\u001b[0m \u001b[1m0s\u001b[0m 15ms/step - loss: 11.8415 - mse: 11.8415 - val_loss: 19.3818 - val_mse: 19.3818\n",
      "Epoch 20/20\n",
      "\u001b[1m1/1\u001b[0m \u001b[32m━━━━━━━━━━━━━━━━━━━━\u001b[0m\u001b[37m\u001b[0m \u001b[1m0s\u001b[0m 82ms/step - loss: 11.7335 - mse: 11.7335 - val_loss: 19.4207 - val_mse: 19.4207\n"
     ]
    }
   ],
   "source": [
    "epochs = 20\n",
    "\n",
    "history = model.fit(X_train_train, y_train_train,\n",
    "                    epochs = epochs,\n",
    "                    batch_size=128,\n",
    "                    validation_data=(X_val,y_val))\n",
    "\n",
    "## Note training this model can take a while"
   ]
  },
  {
   "cell_type": "code",
   "execution_count": 7,
   "id": "d104327d-f620-4ec1-bb22-856e829a9e38",
   "metadata": {},
   "outputs": [
    {
     "data": {
      "image/png": "[encoded data removed]",
      "text/plain": [
       "<Figure size 800x600 with 1 Axes>"
      ]
     },
     "metadata": {},
     "output_type": "display_data"
    }
   ],
   "source": [
    "history_dict = history.history\n",
    "## Plotting the training and validation accuracy\n",
    "plt.figure(figsize = (8,6))\n",
    "\n",
    "plt.scatter(range(1,epochs+1), history_dict['mse'], label = \"Training Accuracy\")\n",
    "plt.scatter(range(1,epochs+1), history_dict['val_mse'], label = \"Validation Set Accuracy\")\n",
    "\n",
    "plt.xlabel(\"Epoch\", fontsize=12)\n",
    "plt.ylabel(\"Accuracy\", fontsize=12)\n",
    "\n",
    "plt.xticks(fontsize=10)\n",
    "plt.yticks(fontsize=10)\n",
    "\n",
    "plt.legend(fontsize=12)\n",
    "\n",
    "plt.show()"
   ]
  },
  {
   "cell_type": "code",
   "execution_count": 8,
   "id": "75b964e4-e8e8-4f73-b009-13a3774a3611",
   "metadata": {},
   "outputs": [
    {
     "data": {
      "image/png": "[encoded data removed]",
      "text/plain": [
       "<Figure size 800x600 with 1 Axes>"
      ]
     },
     "metadata": {},
     "output_type": "display_data"
    }
   ],
   "source": [
    "## Plotting the training and validation loss\n",
    "plt.figure(figsize = (8,6))\n",
    "\n",
    "plt.scatter(range(1,epochs+1), history_dict['loss'], label = \"Training Loss\")\n",
    "plt.scatter(range(1,epochs+1), history_dict['val_loss'], label = \"Validation Set Loss\")\n",
    "\n",
    "plt.xlabel(\"Epoch\", fontsize=12)\n",
    "plt.ylabel(\"Loss Function Value\", fontsize=12)\n",
    "\n",
    "plt.xticks(fontsize=10)\n",
    "plt.yticks(fontsize=10)\n",
    "\n",
    "plt.legend(fontsize=12)\n",
    "\n",
    "plt.show()"
   ]
  },
  {
   "cell_type": "code",
   "execution_count": 9,
   "id": "4de99e99-79d7-4343-8752-cb9b45866a10",
   "metadata": {},
   "outputs": [
    {
     "name": "stdout",
     "output_type": "stream",
     "text": [
      "\u001b[1m1/1\u001b[0m \u001b[32m━━━━━━━━━━━━━━━━━━━━\u001b[0m\u001b[37m\u001b[0m \u001b[1m0s\u001b[0m 9ms/step - loss: 10.2949 - mse: 10.2949\n"
     ]
    },
    {
     "data": {
      "text/plain": [
       "[10.294942855834961, 10.294942855834961]"
      ]
     },
     "execution_count": 9,
     "metadata": {},
     "output_type": "execute_result"
    }
   ],
   "source": [
    "# from sklearn.metrics import mean_squared_error\n",
    "\n",
    "# ## print the test set performance\n",
    "# print(\"Test set MSE:\", \n",
    "#       np.round(mean_squared_error(y_train, model.predict(X_train.reshape(-1,1))),2))\n",
    "\n",
    "\n",
    "model.evaluate(X_test,y_test)"
   ]
  },
  {
   "cell_type": "code",
   "execution_count": 10,
   "id": "da2c6125-1eeb-41b7-a8b8-b0bfddc7bd8a",
   "metadata": {},
   "outputs": [
    {
     "name": "stdout",
     "output_type": "stream",
     "text": [
      "\u001b[1m1/1\u001b[0m \u001b[32m━━━━━━━━━━━━━━━━━━━━\u001b[0m\u001b[37m\u001b[0m \u001b[1m0s\u001b[0m 43ms/step\n",
      "[[3.3010478]\n",
      " [3.3205566]\n",
      " [3.3575273]\n",
      " [4.6788616]\n",
      " [2.4685829]\n",
      " [3.323974 ]\n",
      " [3.3224516]\n",
      " [1.2423468]\n",
      " [1.6155384]\n",
      " [3.3574386]\n",
      " [3.0920663]\n",
      " [3.322908 ]\n",
      " [3.1572602]\n",
      " [2.2674215]\n",
      " [3.8789299]\n",
      " [3.8789167]\n",
      " [4.1739697]\n",
      " [3.3567865]]\n"
     ]
    }
   ],
   "source": [
    "print(model.predict(X_val))"
   ]
  },
  {
   "cell_type": "code",
   "execution_count": null,
   "id": "c8ddf9bb-ee8d-4fb1-a54a-de0bee05e8c2",
   "metadata": {},
   "outputs": [],
   "source": []
  }
 ],
 "metadata": {
  "kernelspec": {
   "display_name": "Python 3 (ipykernel)",
   "language": "python",
   "name": "python3"
  },
  "language_info": {
   "codemirror_mode": {
    "name": "ipython",
    "version": 3
   },
   "file_extension": ".py",
   "mimetype": "text/x-python",
   "name": "python",
   "nbconvert_exporter": "python",
   "pygments_lexer": "ipython3",
   "version": "3.11.7"
  }
 },
 "nbformat": 4,
 "nbformat_minor": 5
}
