{
 "cells": [
  {
   "cell_type": "code",
   "execution_count": 2,
   "id": "c57a8d4a",
   "metadata": {},
   "outputs": [],
   "source": [
    "import pandas as pd\n",
    "import numpy as np\n",
    "import matplotlib.pyplot as plt\n",
    "import seaborn as sns\n",
    "\n",
    "sns.set_style(\"whitegrid\")"
   ]
  },
  {
   "cell_type": "code",
   "execution_count": 3,
   "id": "4b3baa17",
   "metadata": {},
   "outputs": [
    {
     "name": "stdout",
     "output_type": "stream",
     "text": [
      "   YEAR  MONTH  DAY  LATITUDE  LONGITUDE  OBSERVATION COUNT  IBA CODE  \\\n",
      "0  2017      1    1      28.0      -97.0          11.000000  0.000000   \n",
      "1  2017      1    1      28.0      -83.0           4.083333  0.083333   \n",
      "2  2017      1    1      28.0      -82.0           3.666667  0.111111   \n",
      "3  2017      1    1      28.0      -81.0           4.200000  0.200000   \n",
      "4  2017      1    1      29.0      -97.0          20.000000  0.000000   \n",
      "\n",
      "   BCR CODE  USFWS CODE  DURATION MINUTES  SPECIES       PRCP  SNOW  \\\n",
      "0       1.0         0.0        147.000000        0  40.421053   0.0   \n",
      "1       1.0         0.0         78.750000        0   0.000000   0.0   \n",
      "2       1.0         0.0         78.444444        0   0.000000   0.0   \n",
      "3       0.8         0.0        118.000000        0   0.000000   0.0   \n",
      "4       1.0         0.0        600.000000        0  61.034483   0.0   \n",
      "\n",
      "         TMAX        TMIN      dsreal  ds  \n",
      "0  229.222222  144.222222  2017-01-01   1  \n",
      "1  270.166667   92.666667  2017-01-01   1  \n",
      "2  257.625000   94.500000  2017-01-01   1  \n",
      "3  245.714286   91.142857  2017-01-01   1  \n",
      "4  219.250000  143.000000  2017-01-01   1  \n"
     ]
    }
   ],
   "source": [
    "data = pd.read_csv('Data/AllSpecYear.csv')\n",
    "\n",
    "print(data.head())"
   ]
  },
  {
   "cell_type": "code",
   "execution_count": 4,
   "id": "8eeae0d5",
   "metadata": {},
   "outputs": [
    {
     "name": "stdout",
     "output_type": "stream",
     "text": [
      "Index(['YEAR', 'MONTH', 'DAY', 'LATITUDE', 'LONGITUDE', 'OBSERVATION COUNT',\n",
      "       'IBA CODE', 'BCR CODE', 'USFWS CODE', 'DURATION MINUTES', 'SPECIES',\n",
      "       'PRCP', 'SNOW', 'TMAX', 'TMIN', 'dsreal', 'ds', 'log_count'],\n",
      "      dtype='object')\n"
     ]
    }
   ],
   "source": [
    "data['log_count'] = np.log10(data['OBSERVATION COUNT'])\n",
    "print(data.columns)"
   ]
  },
  {
   "cell_type": "code",
   "execution_count": 9,
   "id": "e8fd6ed1",
   "metadata": {},
   "outputs": [],
   "source": [
    "from sklearn.model_selection import train_test_split\n",
    "from sklearn.linear_model import LinearRegression"
   ]
  },
  {
   "cell_type": "code",
   "execution_count": 12,
   "id": "c43369be",
   "metadata": {},
   "outputs": [
    {
     "name": "stdout",
     "output_type": "stream",
     "text": [
      "624005\n",
      "325312\n"
     ]
    }
   ],
   "source": [
    "#spec_train, spec_test = train_test_split(all_spec1.copy(),\n",
    "#                                        shuffle = True,\n",
    "#                                        random_state = 440,\n",
    "#                                        test_size=.2)\n",
    "\n",
    "data_train = data[data['ds'] <=730]\n",
    "data_test = data[data['ds'] <= 1095]\n",
    "data_test = data_test[data_test['ds'] > 730]\n",
    "\n",
    "\n",
    "\n",
    "\n",
    "features = ['YEAR',\n",
    "            'MONTH',\n",
    "            'DAY',\n",
    "            'LATITUDE',\n",
    "            'LONGITUDE',\n",
    "            'IBA CODE',\n",
    "            'BCR CODE',\n",
    "            'USFWS CODE',\n",
    "            'DURATION MINUTES',\n",
    "            'PRCP',\n",
    "            'SNOW',\n",
    "            'TMAX',\n",
    "            'TMIN',\n",
    "            'SPECIES',\n",
    "            'ds']\n",
    "\n",
    "l_0 = len(data_train.index)\n",
    "l = len(data_test.index)\n",
    "print(l_0)\n",
    "print(l)\n"
   ]
  },
  {
   "cell_type": "code",
   "execution_count": 13,
   "id": "254ed64d",
   "metadata": {},
   "outputs": [
    {
     "name": "stdout",
     "output_type": "stream",
     "text": [
      "the mse is 10189.035026507248\n"
     ]
    }
   ],
   "source": [
    "reg = LinearRegression(copy_X=True, fit_intercept=False)\n",
    "reg.fit(data_train[features], data_train['OBSERVATION COUNT'])\n",
    "pred = reg.predict(data_test[features])\n",
    "print(\"the mse is\", np.sum(np.power(data_test['OBSERVATION COUNT'].values-pred, 2))/l)"
   ]
  },
  {
   "cell_type": "code",
   "execution_count": 18,
   "id": "68915668",
   "metadata": {},
   "outputs": [
    {
     "name": "stdout",
     "output_type": "stream",
     "text": [
      "286\n"
     ]
    }
   ],
   "source": [
    "## For comparing linear regression with time series\n",
    "\n",
    "sdata_train = data_train[data_train[\"LATITUDE\"] == 41]\n",
    "sdata_train = sdata_train[sdata_train[\"LONGITUDE\"] == -92]\n",
    "sdata_train = sdata_train[sdata_train[\"SPECIES\"] == 0]\n",
    "\n",
    "sdata_test = data_test[data_test[\"LATITUDE\"] == 41]\n",
    "sdata_test = sdata_test[sdata_test[\"LONGITUDE\"] == -92]\n",
    "sdata_test = sdata_test[sdata_test[\"SPECIES\"] == 0]\n",
    "\n",
    "sl = len(sdata_test.index)\n",
    "print(sl)"
   ]
  },
  {
   "cell_type": "code",
   "execution_count": 19,
   "id": "5f9cf6b1",
   "metadata": {},
   "outputs": [
    {
     "name": "stdout",
     "output_type": "stream",
     "text": [
      "the mse is 22.81023129812986\n"
     ]
    }
   ],
   "source": [
    "reg2 = LinearRegression(copy_X=True, fit_intercept=False)\n",
    "reg2.fit(sdata_train[features], sdata_train['OBSERVATION COUNT'])\n",
    "pred = reg2.predict(sdata_test[features])\n",
    "print(\"the mse is\", np.sum(np.power(sdata_test['OBSERVATION COUNT'].values-pred,2))/sl)\n"
   ]
  },
  {
   "cell_type": "code",
   "execution_count": 22,
   "id": "27d0f1b1",
   "metadata": {},
   "outputs": [
    {
     "name": "stdout",
     "output_type": "stream",
     "text": [
      "the mse is 10365.121863137041\n"
     ]
    }
   ],
   "source": [
    "reg3 = LinearRegression(copy_X=True, fit_intercept=False)\n",
    "reg3.fit(data_train[features], data_train['log_count'])\n",
    "pred = reg3.predict(data_test[features])\n",
    "\n",
    "print(\"the mse is\", np.sum(np.power(np.power(np.ones(l)*10, data_test['log_count'].values)-pred,2))/l)"
   ]
  },
  {
   "cell_type": "code",
   "execution_count": null,
   "id": "34f77ce6",
   "metadata": {},
   "outputs": [],
   "source": [
    "\n"
   ]
  },
  {
   "cell_type": "code",
   "execution_count": null,
   "id": "580bd551",
   "metadata": {},
   "outputs": [],
   "source": []
  },
  {
   "cell_type": "code",
   "execution_count": null,
   "id": "d37c1ecd",
   "metadata": {},
   "outputs": [],
   "source": []
  }
 ],
 "metadata": {
  "kernelspec": {
   "display_name": "Python 3 (ipykernel)",
   "language": "python",
   "name": "python3"
  },
  "language_info": {
   "codemirror_mode": {
    "name": "ipython",
    "version": 3
   },
   "file_extension": ".py",
   "mimetype": "text/x-python",
   "name": "python",
   "nbconvert_exporter": "python",
   "pygments_lexer": "ipython3",
   "version": "3.11.5"
  }
 },
 "nbformat": 4,
 "nbformat_minor": 5
}
