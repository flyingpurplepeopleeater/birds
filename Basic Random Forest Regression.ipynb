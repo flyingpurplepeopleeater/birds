{
 "cells": [
  {
   "cell_type": "code",
   "execution_count": 6,
   "id": "7af2e7f8",
   "metadata": {},
   "outputs": [],
   "source": [
    "import pandas as pd\n",
    "import numpy as np\n",
    "import matplotlib.pyplot as plt\n",
    "import seaborn as sns\n",
    "\n",
    "sns.set_style(\"whitegrid\")"
   ]
  },
  {
   "cell_type": "code",
   "execution_count": 7,
   "id": "bf3e4c31",
   "metadata": {},
   "outputs": [
    {
     "name": "stdout",
     "output_type": "stream",
     "text": [
      "   LATITUDE  LONGITUDE  OBSERVATION COUNT  IBA CODE  BCR CODE  USFWS CODE  \\\n",
      "0      28.0      -97.0          14.333333  0.500000  1.000000    0.500000   \n",
      "1      28.0      -96.0           5.000000  0.000000  1.000000    1.000000   \n",
      "2      28.0      -83.0           4.100000  0.050000  1.000000    0.000000   \n",
      "3      28.0      -82.0           5.833333  0.208333  1.000000    0.000000   \n",
      "4      28.0      -81.0           4.142857  0.571429  0.785714    0.142857   \n",
      "\n",
      "   DURATION MINUTES      PRCP  SNOW  SNWD        TMAX        TMIN  SPECIES  \\\n",
      "0         90.500000  5.800000   0.0   0.0  163.125000   46.375000        0   \n",
      "1        120.000000  4.333333   0.0   0.0  166.500000   52.750000        0   \n",
      "2         84.600000  0.000000   0.0   0.0  276.285714  154.714286        0   \n",
      "3        152.750000  0.129032   0.0   0.0  281.181818  169.272727        0   \n",
      "4        108.642857  0.500000   0.0   0.0  270.714286  167.571429        0   \n",
      "\n",
      "      ds  ABOVE AVG  \n",
      "0  731.0       True  \n",
      "1  731.0      False  \n",
      "2  731.0      False  \n",
      "3  731.0      False  \n",
      "4  731.0      False  \n"
     ]
    }
   ],
   "source": [
    "all_spec = pd.read_csv('Data/agg3_all_spec.csv')\n",
    "all_spec1 = all_spec.drop(['Unnamed: 0'], axis = 1)\n",
    "print(all_spec1.head())"
   ]
  },
  {
   "cell_type": "code",
   "execution_count": 8,
   "id": "252488f8",
   "metadata": {},
   "outputs": [],
   "source": [
    "from sklearn.model_selection import train_test_split\n",
    "\n",
    "spec_train, spec_test = train_test_split(all_spec1.copy(),\n",
    "                                        shuffle = True,\n",
    "                                        random_state = 440,\n",
    "                                        test_size=.2)\n",
    "\n",
    "features = ['LATITUDE',\n",
    "            'LONGITUDE',\n",
    "            'IBA CODE',\n",
    "            'BCR CODE',\n",
    "            'USFWS CODE',\n",
    "            'DURATION MINUTES',\n",
    "            'PRCP',\n",
    "            'SNOW',\n",
    "            'SNWD',\n",
    "            'TMAX',\n",
    "            'TMIN',\n",
    "            'SPECIES',\n",
    "            'ds']"
   ]
  },
  {
   "cell_type": "code",
   "execution_count": 10,
   "id": "310e6ad1",
   "metadata": {},
   "outputs": [
    {
     "name": "stdout",
     "output_type": "stream",
     "text": [
      "the mse is 7908.803960640514\n"
     ]
    }
   ],
   "source": [
    "from sklearn.ensemble import RandomForestRegressor\n",
    "\n",
    "\n",
    "rf_model = RandomForestRegressor(n_estimators = 10, max_depth = 50, random_state=1)\n",
    "\n",
    "rf_model.fit(spec_train[features],spec_train['OBSERVATION COUNT'])\n",
    "\n",
    "pred = rf_model.predict(spec_test[features])\n",
    "\n",
    "print(\"the mse is\", np.sum(np.power(spec_test['OBSERVATION COUNT'].values-pred, 2))/len(spec_test.index))\n"
   ]
  },
  {
   "cell_type": "code",
   "execution_count": null,
   "id": "07fb667c",
   "metadata": {},
   "outputs": [],
   "source": []
  }
 ],
 "metadata": {
  "kernelspec": {
   "display_name": "Python 3 (ipykernel)",
   "language": "python",
   "name": "python3"
  },
  "language_info": {
   "codemirror_mode": {
    "name": "ipython",
    "version": 3
   },
   "file_extension": ".py",
   "mimetype": "text/x-python",
   "name": "python",
   "nbconvert_exporter": "python",
   "pygments_lexer": "ipython3",
   "version": "3.11.5"
  }
 },
 "nbformat": 4,
 "nbformat_minor": 5
}
