{
 "cells": [
  {
   "cell_type": "markdown",
   "id": "505f14c7-e0aa-471e-bcff-f25c9e0a1ecd",
   "metadata": {},
   "source": [
    "<h1>Bird Network</h1>"
   ]
  },
  {
   "cell_type": "markdown",
   "id": "4f1a469b-95e1-410c-9e5c-a2cae094be2f",
   "metadata": {},
   "source": [
    "Let's start with one year of data; our 2019 data; we're going to have all of the weather data and bird data\n",
    "Our input (for the one-year run) will be just weather and number of birds\n",
    "Except that we also want the weather data for the day of\n",
    "Let's first figure out how to do it and then figure out how to get the data in the form that will let us do it"
   ]
  },
  {
   "cell_type": "code",
   "execution_count": 5,
   "id": "f5ab863b-8fd3-4131-bda4-ed73232ccdb9",
   "metadata": {},
   "outputs": [],
   "source": [
    "# code time\n",
    "# Let's try to get our data into this form now\n",
    "# We want a bunch of rows, each of which is like a bunch of arrays...\n",
    "\n",
    "# current issue: how to get array inputs instead of number inputs for each time step"
   ]
  },
  {
   "cell_type": "code",
   "execution_count": 1,
   "id": "9aacaaef-38af-439c-a5f7-9754afaaf87a",
   "metadata": {},
   "outputs": [],
   "source": [
    "## For data handling\n",
    "import pandas as pd\n",
    "import numpy as np\n",
    "\n",
    "## For plotting\n",
    "import matplotlib.pyplot as plt\n",
    "from seaborn import set_style\n",
    "\n",
    "## This sets the plot style\n",
    "## to have a grid on a white background\n",
    "set_style(\"whitegrid\")\n",
    "\n",
    "## Import all the keras stuff we'll need\n",
    "from keras import models\n",
    "from keras import layers\n",
    "from keras import optimizers\n",
    "from keras import losses\n",
    "from keras import metrics"
   ]
  },
  {
   "cell_type": "code",
   "execution_count": 83,
   "id": "88100a97-c081-4e70-bdcb-2c67c699bcba",
   "metadata": {},
   "outputs": [
    {
     "name": "stderr",
     "output_type": "stream",
     "text": [
      "/opt/homebrew/Caskroom/miniforge/base/envs/myname/lib/python3.11/site-packages/keras/src/layers/rnn/rnn.py:204: UserWarning: Do not pass an `input_shape`/`input_dim` argument to a layer. When using Sequential models, prefer using an `Input(shape)` object as the first layer in the model instead.\n",
      "  super().__init__(**kwargs)\n"
     ]
    },
    {
     "data": {
      "text/html": [
       "<pre style=\"white-space:pre;overflow-x:auto;line-height:normal;font-family:Menlo,'DejaVu Sans Mono',consolas,'Courier New',monospace\"><span style=\"font-weight: bold\">Model: \"sequential_9\"</span>\n",
       "</pre>\n"
      ],
      "text/plain": [
       "\u001b[1mModel: \"sequential_9\"\u001b[0m\n"
      ]
     },
     "metadata": {},
     "output_type": "display_data"
    },
    {
     "data": {
      "text/html": [
       "<pre style=\"white-space:pre;overflow-x:auto;line-height:normal;font-family:Menlo,'DejaVu Sans Mono',consolas,'Courier New',monospace\">┏━━━━━━━━━━━━━━━━━━━━━━━━━━━━━━━━━┳━━━━━━━━━━━━━━━━━━━━━━━━┳━━━━━━━━━━━━━━━┓\n",
       "┃<span style=\"font-weight: bold\"> Layer (type)                    </span>┃<span style=\"font-weight: bold\"> Output Shape           </span>┃<span style=\"font-weight: bold\">       Param # </span>┃\n",
       "┡━━━━━━━━━━━━━━━━━━━━━━━━━━━━━━━━━╇━━━━━━━━━━━━━━━━━━━━━━━━╇━━━━━━━━━━━━━━━┩\n",
       "│ simple_rnn_9 (<span style=\"color: #0087ff; text-decoration-color: #0087ff\">SimpleRNN</span>)        │ (<span style=\"color: #00d7ff; text-decoration-color: #00d7ff\">None</span>, <span style=\"color: #00af00; text-decoration-color: #00af00\">32</span>)             │         <span style=\"color: #00af00; text-decoration-color: #00af00\">1,248</span> │\n",
       "├─────────────────────────────────┼────────────────────────┼───────────────┤\n",
       "│ dense_23 (<span style=\"color: #0087ff; text-decoration-color: #0087ff\">Dense</span>)                │ (<span style=\"color: #00d7ff; text-decoration-color: #00d7ff\">None</span>, <span style=\"color: #00af00; text-decoration-color: #00af00\">50</span>)             │         <span style=\"color: #00af00; text-decoration-color: #00af00\">1,650</span> │\n",
       "├─────────────────────────────────┼────────────────────────┼───────────────┤\n",
       "│ dense_24 (<span style=\"color: #0087ff; text-decoration-color: #0087ff\">Dense</span>)                │ (<span style=\"color: #00d7ff; text-decoration-color: #00d7ff\">None</span>, <span style=\"color: #00af00; text-decoration-color: #00af00\">50</span>)             │         <span style=\"color: #00af00; text-decoration-color: #00af00\">2,550</span> │\n",
       "├─────────────────────────────────┼────────────────────────┼───────────────┤\n",
       "│ dense_25 (<span style=\"color: #0087ff; text-decoration-color: #0087ff\">Dense</span>)                │ (<span style=\"color: #00d7ff; text-decoration-color: #00d7ff\">None</span>, <span style=\"color: #00af00; text-decoration-color: #00af00\">1</span>)              │            <span style=\"color: #00af00; text-decoration-color: #00af00\">51</span> │\n",
       "└─────────────────────────────────┴────────────────────────┴───────────────┘\n",
       "</pre>\n"
      ],
      "text/plain": [
       "┏━━━━━━━━━━━━━━━━━━━━━━━━━━━━━━━━━┳━━━━━━━━━━━━━━━━━━━━━━━━┳━━━━━━━━━━━━━━━┓\n",
       "┃\u001b[1m \u001b[0m\u001b[1mLayer (type)                   \u001b[0m\u001b[1m \u001b[0m┃\u001b[1m \u001b[0m\u001b[1mOutput Shape          \u001b[0m\u001b[1m \u001b[0m┃\u001b[1m \u001b[0m\u001b[1m      Param #\u001b[0m\u001b[1m \u001b[0m┃\n",
       "┡━━━━━━━━━━━━━━━━━━━━━━━━━━━━━━━━━╇━━━━━━━━━━━━━━━━━━━━━━━━╇━━━━━━━━━━━━━━━┩\n",
       "│ simple_rnn_9 (\u001b[38;5;33mSimpleRNN\u001b[0m)        │ (\u001b[38;5;45mNone\u001b[0m, \u001b[38;5;34m32\u001b[0m)             │         \u001b[38;5;34m1,248\u001b[0m │\n",
       "├─────────────────────────────────┼────────────────────────┼───────────────┤\n",
       "│ dense_23 (\u001b[38;5;33mDense\u001b[0m)                │ (\u001b[38;5;45mNone\u001b[0m, \u001b[38;5;34m50\u001b[0m)             │         \u001b[38;5;34m1,650\u001b[0m │\n",
       "├─────────────────────────────────┼────────────────────────┼───────────────┤\n",
       "│ dense_24 (\u001b[38;5;33mDense\u001b[0m)                │ (\u001b[38;5;45mNone\u001b[0m, \u001b[38;5;34m50\u001b[0m)             │         \u001b[38;5;34m2,550\u001b[0m │\n",
       "├─────────────────────────────────┼────────────────────────┼───────────────┤\n",
       "│ dense_25 (\u001b[38;5;33mDense\u001b[0m)                │ (\u001b[38;5;45mNone\u001b[0m, \u001b[38;5;34m1\u001b[0m)              │            \u001b[38;5;34m51\u001b[0m │\n",
       "└─────────────────────────────────┴────────────────────────┴───────────────┘\n"
      ]
     },
     "metadata": {},
     "output_type": "display_data"
    },
    {
     "data": {
      "text/html": [
       "<pre style=\"white-space:pre;overflow-x:auto;line-height:normal;font-family:Menlo,'DejaVu Sans Mono',consolas,'Courier New',monospace\"><span style=\"font-weight: bold\"> Total params: </span><span style=\"color: #00af00; text-decoration-color: #00af00\">5,499</span> (21.48 KB)\n",
       "</pre>\n"
      ],
      "text/plain": [
       "\u001b[1m Total params: \u001b[0m\u001b[38;5;34m5,499\u001b[0m (21.48 KB)\n"
      ]
     },
     "metadata": {},
     "output_type": "display_data"
    },
    {
     "data": {
      "text/html": [
       "<pre style=\"white-space:pre;overflow-x:auto;line-height:normal;font-family:Menlo,'DejaVu Sans Mono',consolas,'Courier New',monospace\"><span style=\"font-weight: bold\"> Trainable params: </span><span style=\"color: #00af00; text-decoration-color: #00af00\">5,499</span> (21.48 KB)\n",
       "</pre>\n"
      ],
      "text/plain": [
       "\u001b[1m Trainable params: \u001b[0m\u001b[38;5;34m5,499\u001b[0m (21.48 KB)\n"
      ]
     },
     "metadata": {},
     "output_type": "display_data"
    },
    {
     "data": {
      "text/html": [
       "<pre style=\"white-space:pre;overflow-x:auto;line-height:normal;font-family:Menlo,'DejaVu Sans Mono',consolas,'Courier New',monospace\"><span style=\"font-weight: bold\"> Non-trainable params: </span><span style=\"color: #00af00; text-decoration-color: #00af00\">0</span> (0.00 B)\n",
       "</pre>\n"
      ],
      "text/plain": [
       "\u001b[1m Non-trainable params: \u001b[0m\u001b[38;5;34m0\u001b[0m (0.00 B)\n"
      ]
     },
     "metadata": {},
     "output_type": "display_data"
    }
   ],
   "source": [
    "model = models.Sequential()\n",
    "\n",
    "# Then the SimpleRNN layer\n",
    "# the first input should be the same size as the input layer, i.e. 32\n",
    "# return_sequences determines if the network should return the hidden state value for \n",
    "# each hidden layer h1, h2, ..., hT\n",
    "# Since we only want the last one, hT, we set it equal to False\n",
    "# If we were building a network with multiple SimpleRNN layers,\n",
    "# you'd set this to True\n",
    "model.add(layers.SimpleRNN(32, input_shape=(30,6), return_sequences=False))\n",
    "model.add(layers.Dense(50, activation='relu'))\n",
    "model.add(layers.Dense(50, activation='relu'))\n",
    "model.add(layers.Dense(1, activation='relu'))\n",
    "model.summary()\n",
    "model.compile(optimizer='rmsprop',\n",
    "              loss=\"mse\",\n",
    "                 metrics=['mse'])"
   ]
  },
  {
   "cell_type": "code",
   "execution_count": 76,
   "id": "89dff317-aa57-473c-8be8-85f88643e549",
   "metadata": {},
   "outputs": [
    {
     "name": "stdout",
     "output_type": "stream",
     "text": [
      "[[[1.66666667e+00 7.70740741e+01 0.00000000e+00 8.87500000e+01\n",
      "   0.00000000e+00 0.00000000e+00]\n",
      "  [1.50000000e+00 1.89310345e+01 0.00000000e+00 1.39111111e+02\n",
      "   1.00000000e+00 0.00000000e+00]\n",
      "  [5.00000000e+00 9.31290323e+01 0.00000000e+00 1.71444444e+02\n",
      "   2.00000000e+00 0.00000000e+00]\n",
      "  ...\n",
      "  [2.00000000e+00 0.00000000e+00 0.00000000e+00 1.62000000e+02\n",
      "   4.10000000e+01 0.00000000e+00]\n",
      "  [2.00000000e+00 2.21428571e+00 0.00000000e+00 1.96250000e+02\n",
      "   4.20000000e+01 0.00000000e+00]\n",
      "  [1.00000000e+00 2.85714286e-01 0.00000000e+00 1.88300000e+02\n",
      "   4.30000000e+01 0.00000000e+00]]\n",
      "\n",
      " [[1.50000000e+00 1.89310345e+01 0.00000000e+00 1.39111111e+02\n",
      "   1.00000000e+00 0.00000000e+00]\n",
      "  [5.00000000e+00 9.31290323e+01 0.00000000e+00 1.71444444e+02\n",
      "   2.00000000e+00 0.00000000e+00]\n",
      "  [1.50000000e+00 3.82500000e+01 0.00000000e+00 1.49666667e+02\n",
      "   3.00000000e+00 0.00000000e+00]\n",
      "  ...\n",
      "  [2.00000000e+00 2.21428571e+00 0.00000000e+00 1.96250000e+02\n",
      "   4.20000000e+01 0.00000000e+00]\n",
      "  [1.00000000e+00 2.85714286e-01 0.00000000e+00 1.88300000e+02\n",
      "   4.30000000e+01 0.00000000e+00]\n",
      "  [2.00000000e+00 1.03448276e-01 0.00000000e+00 1.08400000e+02\n",
      "   4.40000000e+01 0.00000000e+00]]\n",
      "\n",
      " [[5.00000000e+00 9.31290323e+01 0.00000000e+00 1.71444444e+02\n",
      "   2.00000000e+00 0.00000000e+00]\n",
      "  [1.50000000e+00 3.82500000e+01 0.00000000e+00 1.49666667e+02\n",
      "   3.00000000e+00 0.00000000e+00]\n",
      "  [2.00000000e+00 2.66666667e-01 0.00000000e+00 2.84000000e+01\n",
      "   4.00000000e+00 0.00000000e+00]\n",
      "  ...\n",
      "  [1.00000000e+00 2.85714286e-01 0.00000000e+00 1.88300000e+02\n",
      "   4.30000000e+01 0.00000000e+00]\n",
      "  [2.00000000e+00 1.03448276e-01 0.00000000e+00 1.08400000e+02\n",
      "   4.40000000e+01 0.00000000e+00]\n",
      "  [2.00000000e+00 0.00000000e+00 0.00000000e+00 9.32000000e+01\n",
      "   4.60000000e+01 0.00000000e+00]]\n",
      "\n",
      " ...\n",
      "\n",
      " [[4.00000000e+00 2.23529412e+00 0.00000000e+00 1.30428571e+02\n",
      "   3.29000000e+02 0.00000000e+00]\n",
      "  [1.00000000e+00 2.63513514e+01 0.00000000e+00 9.27500000e+01\n",
      "   3.30000000e+02 0.00000000e+00]\n",
      "  [1.66666667e+00 0.00000000e+00 0.00000000e+00 6.07500000e+01\n",
      "   3.31000000e+02 0.00000000e+00]\n",
      "  ...\n",
      "  [2.50000000e+00 1.10666667e+02 0.00000000e+00 1.41000000e+02\n",
      "   3.59000000e+02 0.00000000e+00]\n",
      "  [5.66666667e+00 8.86111111e+00 0.00000000e+00 1.06500000e+02\n",
      "   3.60000000e+02 0.00000000e+00]\n",
      "  [1.25000000e+01 1.62857143e+00 0.00000000e+00 9.33750000e+01\n",
      "   3.61000000e+02 0.00000000e+00]]\n",
      "\n",
      " [[1.00000000e+00 2.63513514e+01 0.00000000e+00 9.27500000e+01\n",
      "   3.30000000e+02 0.00000000e+00]\n",
      "  [1.66666667e+00 0.00000000e+00 0.00000000e+00 6.07500000e+01\n",
      "   3.31000000e+02 0.00000000e+00]\n",
      "  [2.66666667e+00 0.00000000e+00 0.00000000e+00 5.78750000e+01\n",
      "   3.32000000e+02 0.00000000e+00]\n",
      "  ...\n",
      "  [5.66666667e+00 8.86111111e+00 0.00000000e+00 1.06500000e+02\n",
      "   3.60000000e+02 0.00000000e+00]\n",
      "  [1.25000000e+01 1.62857143e+00 0.00000000e+00 9.33750000e+01\n",
      "   3.61000000e+02 0.00000000e+00]\n",
      "  [1.10000000e+01 8.57142857e-02 0.00000000e+00 5.87500000e+01\n",
      "   3.62000000e+02 0.00000000e+00]]\n",
      "\n",
      " [[1.66666667e+00 0.00000000e+00 0.00000000e+00 6.07500000e+01\n",
      "   3.31000000e+02 0.00000000e+00]\n",
      "  [2.66666667e+00 0.00000000e+00 0.00000000e+00 5.78750000e+01\n",
      "   3.32000000e+02 0.00000000e+00]\n",
      "  [1.45000000e+01 0.00000000e+00 0.00000000e+00 1.28875000e+02\n",
      "   3.33000000e+02 0.00000000e+00]\n",
      "  ...\n",
      "  [1.25000000e+01 1.62857143e+00 0.00000000e+00 9.33750000e+01\n",
      "   3.61000000e+02 0.00000000e+00]\n",
      "  [1.10000000e+01 8.57142857e-02 0.00000000e+00 5.87500000e+01\n",
      "   3.62000000e+02 0.00000000e+00]\n",
      "  [1.65000000e+01 7.76470588e+00 7.69230769e-01 3.02857143e+01\n",
      "   3.63000000e+02 0.00000000e+00]]]\n",
      "[0.         0.         0.         ... 0.         0.76923077 0.        ]\n"
     ]
    }
   ],
   "source": [
    "# Now let's get our data in here\n",
    "import datetime\n",
    "\n",
    "def diff(row):\n",
    "    return (datetime.date(int(row[\"YEAR\"]),int(row[\"MONTH\"]),int(row[\"DAY\"])) - datetime.date(2017,1,1)).days\n",
    "\n",
    "def diffmod(row):\n",
    "    return (datetime.date(int(row[\"YEAR\"]),int(row[\"MONTH\"]),int(row[\"DAY\"])) - datetime.date(int(row[\"YEAR\"]),1,1)).days\n",
    "\n",
    "df = pd.read_csv(\"Data/AllSpecYear.csv\")\n",
    "df = df[df[\"LATITUDE\"]==36]\n",
    "df = df[df[\"LONGITUDE\"]==-86]\n",
    "df[\"T\"] = df.apply(diff,axis=1)\n",
    "df[\"DOY\"] = df.apply(diffmod,axis=1)\n",
    "df = df.sort_values(\"T\")[[\"PRCP\",\"SNOW\",\"TMAX\",\"OBSERVATION COUNT\",\"DOY\",\"SPECIES\",\"T\"]]\n",
    "df = df[[\"OBSERVATION COUNT\",\"PRCP\",\"SNOW\",\"TMAX\",\"DOY\",\"SPECIES\",\"T\"]]\n",
    "df=df[df[\"SPECIES\"]==0]\n",
    "array = df.drop(\"T\",axis=1).to_numpy()\n",
    "Xarray = np.empty((len(array)-30,30,6))\n",
    "Yarray = np.array([])\n",
    "for i in range(len(array)-30):\n",
    "    for j in range(30):\n",
    "        Xarray[i][j] = array[i+j]\n",
    "    Yarray = np.append(Yarray,[array[i+30][2]])\n",
    "print(Xarray)\n",
    "print(Yarray)\n",
    "# 30 day guys..."
   ]
  },
  {
   "cell_type": "code",
   "execution_count": 77,
   "id": "400c2c7a-2bd5-4054-9a4d-7ebe4d5a12d1",
   "metadata": {},
   "outputs": [
    {
     "name": "stdout",
     "output_type": "stream",
     "text": [
      "1306\n"
     ]
    }
   ],
   "source": [
    "from sklearn.model_selection import train_test_split\n",
    "X_train, X_test, y_train, y_test = train_test_split(Xarray, Yarray,\n",
    "                                                       shuffle = True,\n",
    "                                                       random_state = 440,\n",
    "                                                       test_size = .2)\n",
    "print(len(y_train))\n",
    "X_train_train,X_val,y_train_train,y_val = train_test_split(X_train, y_train,\n",
    "                                                           test_size=.2,\n",
    "                                                           shuffle=True,\n",
    "                                                           random_state=440)"
   ]
  },
  {
   "cell_type": "code",
   "execution_count": 78,
   "id": "69241aa3-e89e-43fe-b2ba-1616f8517ef6",
   "metadata": {},
   "outputs": [
    {
     "name": "stdout",
     "output_type": "stream",
     "text": [
      "Epoch 1/10\n",
      "\u001b[1m9/9\u001b[0m \u001b[32m━━━━━━━━━━━━━━━━━━━━\u001b[0m\u001b[37m\u001b[0m \u001b[1m1s\u001b[0m 15ms/step - loss: 49.2665 - mse: 49.2665 - val_loss: 23.1664 - val_mse: 23.1664\n",
      "Epoch 2/10\n",
      "\u001b[1m9/9\u001b[0m \u001b[32m━━━━━━━━━━━━━━━━━━━━\u001b[0m\u001b[37m\u001b[0m \u001b[1m0s\u001b[0m 6ms/step - loss: 30.4522 - mse: 30.4522 - val_loss: 23.0842 - val_mse: 23.0842\n",
      "Epoch 3/10\n",
      "\u001b[1m9/9\u001b[0m \u001b[32m━━━━━━━━━━━━━━━━━━━━\u001b[0m\u001b[37m\u001b[0m \u001b[1m0s\u001b[0m 6ms/step - loss: 76.9124 - mse: 76.9124 - val_loss: 23.1577 - val_mse: 23.1577\n",
      "Epoch 4/10\n",
      "\u001b[1m9/9\u001b[0m \u001b[32m━━━━━━━━━━━━━━━━━━━━\u001b[0m\u001b[37m\u001b[0m \u001b[1m0s\u001b[0m 6ms/step - loss: 40.1404 - mse: 40.1404 - val_loss: 23.1543 - val_mse: 23.1543\n",
      "Epoch 5/10\n",
      "\u001b[1m9/9\u001b[0m \u001b[32m━━━━━━━━━━━━━━━━━━━━\u001b[0m\u001b[37m\u001b[0m \u001b[1m0s\u001b[0m 6ms/step - loss: 74.3611 - mse: 74.3611 - val_loss: 23.0534 - val_mse: 23.0534\n",
      "Epoch 6/10\n",
      "\u001b[1m9/9\u001b[0m \u001b[32m━━━━━━━━━━━━━━━━━━━━\u001b[0m\u001b[37m\u001b[0m \u001b[1m0s\u001b[0m 6ms/step - loss: 40.5318 - mse: 40.5318 - val_loss: 23.0654 - val_mse: 23.0654\n",
      "Epoch 7/10\n",
      "\u001b[1m9/9\u001b[0m \u001b[32m━━━━━━━━━━━━━━━━━━━━\u001b[0m\u001b[37m\u001b[0m \u001b[1m0s\u001b[0m 6ms/step - loss: 65.8322 - mse: 65.8322 - val_loss: 23.1115 - val_mse: 23.1115\n",
      "Epoch 8/10\n",
      "\u001b[1m9/9\u001b[0m \u001b[32m━━━━━━━━━━━━━━━━━━━━\u001b[0m\u001b[37m\u001b[0m \u001b[1m0s\u001b[0m 6ms/step - loss: 46.8399 - mse: 46.8399 - val_loss: 23.0813 - val_mse: 23.0813\n",
      "Epoch 9/10\n",
      "\u001b[1m9/9\u001b[0m \u001b[32m━━━━━━━━━━━━━━━━━━━━\u001b[0m\u001b[37m\u001b[0m \u001b[1m0s\u001b[0m 6ms/step - loss: 28.4968 - mse: 28.4968 - val_loss: 23.0385 - val_mse: 23.0385\n",
      "Epoch 10/10\n",
      "\u001b[1m9/9\u001b[0m \u001b[32m━━━━━━━━━━━━━━━━━━━━\u001b[0m\u001b[37m\u001b[0m \u001b[1m0s\u001b[0m 7ms/step - loss: 56.8788 - mse: 56.8788 - val_loss: 23.0986 - val_mse: 23.0986\n"
     ]
    }
   ],
   "source": [
    "epochs = 10\n",
    "\n",
    "history = model.fit(X_train_train, y_train_train,\n",
    "                    epochs = epochs,\n",
    "                    batch_size=128,\n",
    "                    validation_data=(X_val,y_val))\n",
    "\n",
    "## Note training this model can take a while"
   ]
  },
  {
   "cell_type": "code",
   "execution_count": 79,
   "id": "d104327d-f620-4ec1-bb22-856e829a9e38",
   "metadata": {},
   "outputs": [
    {
     "data": {
      "image/png": "[encoded data removed]",
      "text/plain": [
       "<Figure size 800x600 with 1 Axes>"
      ]
     },
     "metadata": {},
     "output_type": "display_data"
    }
   ],
   "source": [
    "history_dict = history.history\n",
    "## Plotting the training and validation accuracy\n",
    "plt.figure(figsize = (8,6))\n",
    "\n",
    "plt.scatter(range(1,epochs+1), history_dict['mse'], label = \"Training Accuracy\")\n",
    "plt.scatter(range(1,epochs+1), history_dict['val_mse'], label = \"Validation Set Accuracy\")\n",
    "\n",
    "plt.xlabel(\"Epoch\", fontsize=12)\n",
    "plt.ylabel(\"Accuracy\", fontsize=12)\n",
    "\n",
    "plt.xticks(fontsize=10)\n",
    "plt.yticks(fontsize=10)\n",
    "\n",
    "plt.legend(fontsize=12)\n",
    "\n",
    "plt.show()"
   ]
  },
  {
   "cell_type": "code",
   "execution_count": 80,
   "id": "75b964e4-e8e8-4f73-b009-13a3774a3611",
   "metadata": {},
   "outputs": [
    {
     "data": {
      "image/png": "[encoded data removed]",
      "text/plain": [
       "<Figure size 800x600 with 1 Axes>"
      ]
     },
     "metadata": {},
     "output_type": "display_data"
    }
   ],
   "source": [
    "## Plotting the training and validation loss\n",
    "plt.figure(figsize = (8,6))\n",
    "\n",
    "plt.scatter(range(1,epochs+1), history_dict['loss'], label = \"Training Loss\")\n",
    "plt.scatter(range(1,epochs+1), history_dict['val_loss'], label = \"Validation Set Loss\")\n",
    "\n",
    "plt.xlabel(\"Epoch\", fontsize=12)\n",
    "plt.ylabel(\"Loss Function Value\", fontsize=12)\n",
    "\n",
    "plt.xticks(fontsize=10)\n",
    "plt.yticks(fontsize=10)\n",
    "\n",
    "plt.legend(fontsize=12)\n",
    "\n",
    "plt.show()"
   ]
  },
  {
   "cell_type": "code",
   "execution_count": 81,
   "id": "4de99e99-79d7-4343-8752-cb9b45866a10",
   "metadata": {},
   "outputs": [
    {
     "name": "stdout",
     "output_type": "stream",
     "text": [
      "\u001b[1m11/11\u001b[0m \u001b[32m━━━━━━━━━━━━━━━━━━━━\u001b[0m\u001b[37m\u001b[0m \u001b[1m0s\u001b[0m 1ms/step - loss: 10.7069 - mse: 10.7069\n"
     ]
    },
    {
     "data": {
      "text/plain": [
       "[26.288593292236328, 26.288593292236328]"
      ]
     },
     "execution_count": 81,
     "metadata": {},
     "output_type": "execute_result"
    }
   ],
   "source": [
    "# from sklearn.metrics import mean_squared_error\n",
    "\n",
    "# ## print the test set performance\n",
    "# print(\"Test set MSE:\", \n",
    "#       np.round(mean_squared_error(y_train, model.predict(X_train.reshape(-1,1))),2))\n",
    "\n",
    "\n",
    "model.evaluate(X_test,y_test)"
   ]
  },
  {
   "cell_type": "code",
   "execution_count": 84,
   "id": "da2c6125-1eeb-41b7-a8b8-b0bfddc7bd8a",
   "metadata": {},
   "outputs": [
    {
     "name": "stdout",
     "output_type": "stream",
     "text": [
      "\u001b[1m9/9\u001b[0m \u001b[32m━━━━━━━━━━━━━━━━━━━━\u001b[0m\u001b[37m\u001b[0m \u001b[1m0s\u001b[0m 5ms/step \n",
      "[[0.72281146]\n",
      " [0.36854693]\n",
      " [0.7111491 ]\n",
      " [0.25711587]\n",
      " [0.3428723 ]\n",
      " [0.25750312]\n",
      " [0.7227896 ]\n",
      " [0.24367742]\n",
      " [0.758573  ]\n",
      " [0.38903496]\n",
      " [0.365589  ]\n",
      " [0.24911982]\n",
      " [0.25178945]\n",
      " [0.38157368]\n",
      " [0.25060993]\n",
      " [0.20426434]\n",
      " [0.1437776 ]\n",
      " [0.6019852 ]\n",
      " [0.37277228]\n",
      " [0.        ]\n",
      " [0.8330666 ]\n",
      " [0.25750312]\n",
      " [0.65690166]\n",
      " [0.7225055 ]\n",
      " [0.35049808]\n",
      " [0.72281677]\n",
      " [0.657149  ]\n",
      " [0.71850723]\n",
      " [0.24600993]\n",
      " [0.36981577]\n",
      " [0.47289357]\n",
      " [0.5029618 ]\n",
      " [0.73106456]\n",
      " [0.65690166]\n",
      " [0.35223135]\n",
      " [0.10996318]\n",
      " [0.37095284]\n",
      " [0.7578337 ]\n",
      " [0.7131692 ]\n",
      " [0.        ]\n",
      " [0.36184505]\n",
      " [0.32970345]\n",
      " [0.14144363]\n",
      " [0.43862087]\n",
      " [0.69125533]\n",
      " [0.7228065 ]\n",
      " [0.25489464]\n",
      " [0.7769309 ]\n",
      " [0.21881273]\n",
      " [0.36974955]\n",
      " [0.42910525]\n",
      " [0.3372381 ]\n",
      " [0.5543834 ]\n",
      " [0.32816753]\n",
      " [0.24579087]\n",
      " [0.72281677]\n",
      " [0.72281545]\n",
      " [0.108964  ]\n",
      " [0.616432  ]\n",
      " [0.7772399 ]\n",
      " [0.25710955]\n",
      " [0.26821786]\n",
      " [0.52931863]\n",
      " [0.25748304]\n",
      " [0.3513725 ]\n",
      " [0.24489748]\n",
      " [0.7224117 ]\n",
      " [0.75038195]\n",
      " [0.        ]\n",
      " [0.65645224]\n",
      " [0.72281677]\n",
      " [0.        ]\n",
      " [0.69435304]\n",
      " [0.9301613 ]\n",
      " [0.65690166]\n",
      " [0.52962554]\n",
      " [0.41523847]\n",
      " [0.43718457]\n",
      " [0.14148803]\n",
      " [0.1413829 ]\n",
      " [0.72133726]\n",
      " [0.6569017 ]\n",
      " [0.72281146]\n",
      " [0.41290677]\n",
      " [0.72281677]\n",
      " [0.25920328]\n",
      " [0.72266704]\n",
      " [0.7213733 ]\n",
      " [0.        ]\n",
      " [0.        ]\n",
      " [0.38160452]\n",
      " [0.2445951 ]\n",
      " [0.        ]\n",
      " [0.        ]\n",
      " [0.51094335]\n",
      " [0.26356035]\n",
      " [0.9820541 ]\n",
      " [0.40260205]\n",
      " [0.7047504 ]\n",
      " [0.36937824]\n",
      " [0.39890274]\n",
      " [0.1413859 ]\n",
      " [0.21326397]\n",
      " [0.72214353]\n",
      " [0.64503247]\n",
      " [0.38293433]\n",
      " [0.72281563]\n",
      " [0.1540463 ]\n",
      " [0.72281677]\n",
      " [0.25740013]\n",
      " [0.14139228]\n",
      " [0.72250664]\n",
      " [0.14794622]\n",
      " [0.72280174]\n",
      " [0.31156683]\n",
      " [0.26380745]\n",
      " [0.6365668 ]\n",
      " [0.7228161 ]\n",
      " [0.29239956]\n",
      " [0.        ]\n",
      " [0.7227467 ]\n",
      " [0.        ]\n",
      " [0.38128638]\n",
      " [0.6685117 ]\n",
      " [0.72281677]\n",
      " [0.16541404]\n",
      " [0.65690166]\n",
      " [0.4581412 ]\n",
      " [0.72487223]\n",
      " [0.7228086 ]\n",
      " [0.5293022 ]\n",
      " [0.24580787]\n",
      " [0.72281677]\n",
      " [0.720792  ]\n",
      " [0.07222534]\n",
      " [0.14283897]\n",
      " [0.45711645]\n",
      " [0.16652736]\n",
      " [0.616432  ]\n",
      " [0.17385255]\n",
      " [0.58486485]\n",
      " [0.60241073]\n",
      " [0.72281677]\n",
      " [0.45423812]\n",
      " [0.38407704]\n",
      " [0.6366446 ]\n",
      " [0.65697616]\n",
      " [0.31509066]\n",
      " [0.38160452]\n",
      " [0.6365682 ]\n",
      " [0.        ]\n",
      " [0.37501693]\n",
      " [0.5293035 ]\n",
      " [0.        ]\n",
      " [0.2476217 ]\n",
      " [0.26078713]\n",
      " [0.24590072]\n",
      " [0.628739  ]\n",
      " [0.65705156]\n",
      " [0.24581961]\n",
      " [0.37201145]\n",
      " [0.72281677]\n",
      " [0.71739626]\n",
      " [0.7227575 ]\n",
      " [0.        ]\n",
      " [0.6392223 ]\n",
      " [0.7228167 ]\n",
      " [0.23025309]\n",
      " [0.6952289 ]\n",
      " [0.72281677]\n",
      " [0.6165476 ]\n",
      " [0.5293241 ]\n",
      " [0.6164567 ]\n",
      " [0.26026267]\n",
      " [0.3831504 ]\n",
      " [0.65690166]\n",
      " [0.77931005]\n",
      " [0.14138272]\n",
      " [0.6568437 ]\n",
      " [0.25750312]\n",
      " [0.34234494]\n",
      " [0.26100126]\n",
      " [0.6461081 ]\n",
      " [0.7205654 ]\n",
      " [0.72281677]\n",
      " [0.7228167 ]\n",
      " [0.3696061 ]\n",
      " [0.27698272]\n",
      " [0.7227915 ]\n",
      " [0.24579306]\n",
      " [0.25750315]\n",
      " [0.25750312]\n",
      " [0.38160452]\n",
      " [0.35782596]\n",
      " [0.7055305 ]\n",
      " [0.6997825 ]\n",
      " [0.03810119]\n",
      " [0.26818004]\n",
      " [0.25750253]\n",
      " [0.2751609 ]\n",
      " [0.50957346]\n",
      " [0.14458337]\n",
      " [0.36821616]\n",
      " [0.78536993]\n",
      " [0.72281677]\n",
      " [0.18827374]\n",
      " [0.6916495 ]\n",
      " [0.25750312]\n",
      " [0.24557179]\n",
      " [0.722815  ]\n",
      " [0.18589322]\n",
      " [0.26307645]\n",
      " [0.6569019 ]\n",
      " [0.66470087]\n",
      " [0.24582496]\n",
      " [0.41304326]\n",
      " [0.01310127]\n",
      " [0.13607909]\n",
      " [0.26022303]\n",
      " [0.1888926 ]\n",
      " [0.38160452]\n",
      " [0.22772902]\n",
      " [0.        ]\n",
      " [0.29660633]\n",
      " [0.70869476]\n",
      " [0.38109022]\n",
      " [0.26814032]\n",
      " [0.38160473]\n",
      " [0.7219952 ]\n",
      " [0.08947524]\n",
      " [0.38160536]\n",
      " [0.7228098 ]\n",
      " [0.24612008]\n",
      " [0.65690166]\n",
      " [0.16237926]\n",
      " [0.38160455]\n",
      " [0.65690166]\n",
      " [0.722813  ]\n",
      " [0.24581134]\n",
      " [0.67940843]\n",
      " [0.72281134]\n",
      " [0.65690166]\n",
      " [0.15125561]\n",
      " [0.72281504]\n",
      " [0.7228142 ]\n",
      " [0.53262025]\n",
      " [0.09752601]\n",
      " [0.72281677]\n",
      " [0.7112973 ]\n",
      " [0.6322647 ]\n",
      " [0.7228122 ]\n",
      " [0.2475799 ]\n",
      " [0.7227742 ]\n",
      " [0.7149189 ]\n",
      " [0.4857096 ]\n",
      " [0.        ]\n",
      " [0.5366144 ]\n",
      " [0.64683944]\n",
      " [0.31722143]\n",
      " [0.38160408]\n",
      " [0.38160452]\n",
      " [0.3847159 ]]\n"
     ]
    }
   ],
   "source": [
    "print(model.predict(X_val))"
   ]
  },
  {
   "cell_type": "code",
   "execution_count": null,
   "id": "c8ddf9bb-ee8d-4fb1-a54a-de0bee05e8c2",
   "metadata": {},
   "outputs": [],
   "source": []
  }
 ],
 "metadata": {
  "kernelspec": {
   "display_name": "Python 3 (ipykernel)",
   "language": "python",
   "name": "python3"
  },
  "language_info": {
   "codemirror_mode": {
    "name": "ipython",
    "version": 3
   },
   "file_extension": ".py",
   "mimetype": "text/x-python",
   "name": "python",
   "nbconvert_exporter": "python",
   "pygments_lexer": "ipython3",
   "version": "3.11.7"
  }
 },
 "nbformat": 4,
 "nbformat_minor": 5
}
